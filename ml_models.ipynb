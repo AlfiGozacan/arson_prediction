{
 "cells": [
  {
   "cell_type": "code",
   "execution_count": null,
   "metadata": {},
   "outputs": [],
   "source": [
    "import pandas as pd\n",
    "from sklearn.model_selection import train_test_split\n",
    "from sklearn.ensemble import AdaBoostClassifier\n",
    "from sklearn.ensemble import RandomForestClassifier\n",
    "from sklearn.ensemble import GradientBoostingClassifier\n",
    "from sklearn.neural_network import MLPClassifier\n",
    "from imblearn.under_sampling import RandomUnderSampler\n",
    "from sklearn.metrics import mean_squared_error\n",
    "import matplotlib.pyplot as plt\n",
    "import seaborn as sns\n",
    "import warnings"
   ]
  },
  {
   "cell_type": "code",
   "execution_count": null,
   "metadata": {},
   "outputs": [],
   "source": [
    "warnings.filterwarnings(\"ignore\")"
   ]
  },
  {
   "cell_type": "code",
   "execution_count": null,
   "metadata": {},
   "outputs": [],
   "source": [
    "nLSOAs = 215\n",
    "nMonths = 70"
   ]
  },
  {
   "cell_type": "code",
   "execution_count": null,
   "metadata": {},
   "outputs": [],
   "source": [
    "### IMPORT DATA THAT WAS CLEANED IN model_data.ipynb ###\n",
    "\n",
    "df = pd.read_csv(\"C:\\\\Users\\\\agozacan\\\\OneDrive - Humberside Fire and Rescue Service\\\\Arson Project\\\\Clean Data\\\\model_data.csv\")\n",
    "\n",
    "ncols = len(df.columns)"
   ]
  },
  {
   "cell_type": "code",
   "execution_count": null,
   "metadata": {},
   "outputs": [],
   "source": [
    "### SPLIT DATAFRAME INTO TRAINING AND TESTING SETS ###\n",
    "\n",
    "training_set, test_set = train_test_split(df, test_size = 0.33, random_state=1)"
   ]
  },
  {
   "cell_type": "code",
   "execution_count": null,
   "metadata": {},
   "outputs": [],
   "source": [
    "### ADD IN BOOLEAN COLUMN \"DID AN ARSON ATTACK HAPPEN IN THIS ENTRY?\" ###\n",
    "\n",
    "training_set.loc[:,\"arson.bool\"] = (training_set[\"Arson Count\"] > 0)"
   ]
  },
  {
   "cell_type": "code",
   "execution_count": null,
   "metadata": {},
   "outputs": [],
   "source": [
    "### UNDERSAMPLE THE TRAINING SET SO THAT THERE IS AN EQUAL NUMBER OF ENTRIES THAT DID HAVE AN ARSON ATTACK AND THOSE THAT DIDN'T ###\n",
    "\n",
    "print(f\"The initial proportion of entries where an arson attack occurred is {sum(training_set['arson.bool']) / len(training_set)}, with {len(training_set)} entries in total\")\n",
    "\n",
    "undersamp = RandomUnderSampler(sampling_strategy=1)\n",
    "\n",
    "X, y = undersamp.fit_resample(training_set.iloc[:,:-1], training_set.iloc[:,-1])\n",
    "\n",
    "training_set = pd.DataFrame(X)\n",
    "\n",
    "training_set[\"arson.bool\"] = y\n",
    "\n",
    "print(f\"The new proportion of entries where an arson attack occurred is {sum(training_set['arson.bool']) / len(training_set)}, with {len(training_set)} entries in total\")"
   ]
  },
  {
   "cell_type": "code",
   "execution_count": null,
   "metadata": {},
   "outputs": [],
   "source": [
    "### DROP THIS BOOLEAN COLUMN AS IT WAS JUST USED FOR UNDERSAMPLING ###\n",
    "\n",
    "training_set.drop(\"arson.bool\", axis=1, inplace=True)"
   ]
  },
  {
   "cell_type": "code",
   "execution_count": null,
   "metadata": {},
   "outputs": [],
   "source": [
    "### INITIATE PREDICTORS (X) AND RESPONSE (y) IN BOTH TRAINING AND TESTING SETS ###\n",
    "\n",
    "X_train = training_set.iloc[:,:-1]\n",
    "y_train = training_set.iloc[:,-1]\n",
    "X_test = test_set.iloc[:,:-1]\n",
    "y_test = test_set.iloc[:,-1]"
   ]
  },
  {
   "cell_type": "code",
   "execution_count": null,
   "metadata": {},
   "outputs": [],
   "source": [
    "### TRAIN FOUR DIFFERENT MACHINE LEARNING MODELS ON THE TRAINING DATA TO PREDICT THE RESPONSE GIVEN THE PREDICTORS ###\n",
    "\n",
    "adaboost = AdaBoostClassifier(random_state=1)\n",
    "adaboost.fit(X_train, y_train)\n",
    "\n",
    "rf = RandomForestClassifier(random_state=1)\n",
    "rf.fit(X_train, y_train)\n",
    "\n",
    "xgboost = GradientBoostingClassifier(random_state=1)\n",
    "xgboost.fit(X_train, y_train)\n",
    "\n",
    "mlp = MLPClassifier(random_state=1, solver=\"lbfgs\")\n",
    "mlp.fit(X_train, y_train)"
   ]
  },
  {
   "cell_type": "code",
   "execution_count": null,
   "metadata": {},
   "outputs": [],
   "source": [
    "### USE THE TRAINED MODELS TO MAKE PREDICTIONS ON NEW DATA. INSERT THE PREDICTIONS AS NEW COLUMNS IN THE TEST DATA ###\n",
    "\n",
    "y_ada_pred = adaboost.predict(X_test)\n",
    "test_set.insert(ncols, \"AdaBoost Predictions\", y_ada_pred)\n",
    "\n",
    "y_rf_pred = rf.predict(X_test)\n",
    "test_set.insert(ncols+1, \"RF Predictions\", y_rf_pred)\n",
    "\n",
    "y_xg_pred = xgboost.predict(X_test)\n",
    "test_set.insert(ncols+2, \"XGBoost Predictions\", y_xg_pred)\n",
    "\n",
    "y_mlp_pred = mlp.predict(X_test)\n",
    "test_set.insert(ncols+3, \"MLP Predictions\", y_mlp_pred)\n",
    "\n",
    "no_classifiers = 4"
   ]
  },
  {
   "cell_type": "code",
   "execution_count": null,
   "metadata": {},
   "outputs": [],
   "source": [
    "### VIEW THE TEST DATA PREDICTION RESULTS ###\n",
    "\n",
    "test_set[test_set[\"Arson Count\"] >= 1]\n",
    "\n",
    "# test_set.sort_values(\"IMD Decile\", ascending=True)"
   ]
  },
  {
   "cell_type": "code",
   "execution_count": null,
   "metadata": {},
   "outputs": [],
   "source": [
    "### VIEW BINARY CLASSIFICATION METRICS USING THE SAME BOOLEAN CONDITION AS EARLIER. THE HIGHER THE RECALL AND PRECISION, THE BETTER ###\n",
    "\n",
    "real_positives = sum(test_set[\"Arson Count\"] >= 1)\n",
    "\n",
    "ada_num_positives = sum(test_set[\"AdaBoost Predictions\"] >= 1)\n",
    "ada_num_true_positives = sum((test_set[\"AdaBoost Predictions\"] >= 1) & (test_set[\"Arson Count\"] >= 1))\n",
    "ada_recall = ada_num_true_positives / real_positives\n",
    "ada_precision = ada_num_true_positives / ada_num_positives\n",
    "print(f\"AdaBoost Recall: {round(ada_recall, 4)}, AdaBoost Precision: {round(ada_precision, 4)}\")\n",
    "\n",
    "rf_num_positives = sum(test_set[\"RF Predictions\"] >= 1)\n",
    "rf_num_true_positives = sum((test_set[\"RF Predictions\"] >= 1) & (test_set[\"Arson Count\"] >= 1))\n",
    "rf_recall = rf_num_true_positives / real_positives\n",
    "rf_precision = rf_num_true_positives / rf_num_positives\n",
    "print(f\"RF Recall: {round(rf_recall, 4)}, RF Precision: {round(rf_precision, 4)}\")\n",
    "\n",
    "xg_num_positives = sum(test_set[\"XGBoost Predictions\"] >= 1)\n",
    "xg_num_true_positives = sum((test_set[\"XGBoost Predictions\"] >= 1) & (test_set[\"Arson Count\"] >= 1))\n",
    "xg_recall = xg_num_true_positives / real_positives\n",
    "xg_precision = xg_num_true_positives / xg_num_positives\n",
    "print(f\"XGBoost Recall: {round(xg_recall, 4)}, XGBoost Precision: {round(xg_precision, 4)}\")\n",
    "\n",
    "mlp_num_positives = sum(test_set[\"MLP Predictions\"] >= 1)\n",
    "mlp_num_true_positives = sum((test_set[\"MLP Predictions\"] >= 1) & (test_set[\"Arson Count\"] >= 1))\n",
    "mlp_recall = mlp_num_true_positives / real_positives\n",
    "mlp_precision = mlp_num_true_positives / mlp_num_positives\n",
    "print(f\"MLP Recall: {round(mlp_recall, 4)}, MLP Precision: {round(mlp_precision, 4)}\")"
   ]
  },
  {
   "cell_type": "code",
   "execution_count": null,
   "metadata": {},
   "outputs": [],
   "source": [
    "### DISPLAY THE MEAN SQUARED ERRORS OF EACH MODEL'S PERFORMANCE. LOWER IS BETTER ###\n",
    "\n",
    "for i in range(no_classifiers, 0, -1):\n",
    "    \n",
    "    print(test_set.columns[-i], mean_squared_error(test_set[\"Arson Count\"], test_set.iloc[:,-i]))"
   ]
  },
  {
   "cell_type": "code",
   "execution_count": null,
   "metadata": {},
   "outputs": [],
   "source": [
    "### PLOT THE FEATURE IMPORTANCE GRAPH, SHOWING WHICH COLUMNS ARE THE MOST INFLUENTIAL TO THE MODELS' DECISIONS ###\n",
    "\n",
    "features = rf.feature_importances_\n",
    "\n",
    "ftrs = pd.DataFrame({\"column_name\": df.columns[:-1], \"score\": features}).sort_values(by = \"score\", ascending = False).reset_index(drop=True)\n",
    "\n",
    "plt.figure(figsize=(10,8))\n",
    "sns.barplot(y = ftrs.loc[:15, \"column_name\"], x = ftrs.loc[:15, \"score\"])\n",
    "plt.title(\"Random Forest Feature Importance\")\n",
    "plt.xlabel(\"Score\")\n",
    "plt.ylabel(\"Column Names\")\n",
    "plt.show()"
   ]
  }
 ],
 "metadata": {
  "interpreter": {
   "hash": "14eabb916c6544ec72073d369246e9786cf732268ebd379f4cd554d89eecb526"
  },
  "kernelspec": {
   "display_name": "Python 3.9.6 64-bit",
   "name": "python3"
  },
  "language_info": {
   "codemirror_mode": {
    "name": "ipython",
    "version": 3
   },
   "file_extension": ".py",
   "mimetype": "text/x-python",
   "name": "python",
   "nbconvert_exporter": "python",
   "pygments_lexer": "ipython3",
   "version": "3.9.6"
  },
  "orig_nbformat": 4
 },
 "nbformat": 4,
 "nbformat_minor": 2
}
