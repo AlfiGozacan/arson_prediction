{
 "cells": [
  {
   "cell_type": "code",
   "execution_count": null,
   "metadata": {},
   "outputs": [],
   "source": [
    "import pandas as pd\n",
    "from sklearn.model_selection import train_test_split\n",
    "from sklearn.ensemble import AdaBoostClassifier\n",
    "from sklearn.ensemble import RandomForestClassifier\n",
    "from sklearn.ensemble import GradientBoostingClassifier\n",
    "from sklearn.neural_network import MLPClassifier\n",
    "from sklearn.metrics import mean_squared_error\n",
    "import matplotlib.pyplot as plt\n",
    "from sklearn.preprocessing import OneHotEncoder\n",
    "import seaborn as sns\n",
    "from tqdm import tqdm"
   ]
  },
  {
   "cell_type": "code",
   "execution_count": null,
   "metadata": {},
   "outputs": [],
   "source": [
    "nLSOAs = 215"
   ]
  },
  {
   "cell_type": "code",
   "execution_count": null,
   "metadata": {},
   "outputs": [],
   "source": [
    "nMonths = 70"
   ]
  },
  {
   "cell_type": "code",
   "execution_count": null,
   "metadata": {},
   "outputs": [],
   "source": [
    "data = pd.read_csv(\"C:\\\\Users\\\\agozacan\\\\OneDrive - Humberside Fire and Rescue Service\\\\Arson Project\\\\inc_per_lsoa.csv\")"
   ]
  },
  {
   "cell_type": "code",
   "execution_count": null,
   "metadata": {},
   "outputs": [],
   "source": [
    "imd_data = pd.read_csv(\"C:\\\\Users\\\\agozacan\\\\OneDrive - Humberside Fire and Rescue Service\\\\Arson Project\\\\imd_2019_lsoa.csv\")"
   ]
  },
  {
   "cell_type": "code",
   "execution_count": null,
   "metadata": {},
   "outputs": [],
   "source": [
    "cbandb_data = pd.read_csv(\"C:\\\\Users\\\\agozacan\\\\OneDrive - Humberside Fire and Rescue Service\\\\Arson Project\\\\cbandb.csv\")\n",
    "cbandb_data[\"monthyear\"] = [x.split(\" \")[0][3:] for x in cbandb_data.inc_time_of_call]"
   ]
  },
  {
   "cell_type": "code",
   "execution_count": null,
   "metadata": {},
   "outputs": [],
   "source": [
    "aggregate_data = cbandb_data[[\"monthyear\", \"LSOA\"]].value_counts().rename_axis([\"Date\", \"LSOA\"]).reset_index(name=\"CB & B Count\")"
   ]
  },
  {
   "cell_type": "code",
   "execution_count": null,
   "metadata": {},
   "outputs": [],
   "source": [
    "for i in range(nLSOAs):\n",
    "\n",
    "    data.loc[i,\"IMD\"] = int(imd_data[imd_data[\"lsoa_code\"] == data.loc[i, \"lsoa_code\"]].imd_decile)"
   ]
  },
  {
   "cell_type": "code",
   "execution_count": null,
   "metadata": {},
   "outputs": [],
   "source": [
    "cbandb_counts = []\n",
    "\n",
    "for i in tqdm(range(nLSOAs)):\n",
    "\n",
    "    for j in range(1,nMonths+1):\n",
    "\n",
    "        LSOA = data.loc[i, \"lsoa_code\"]\n",
    "        DATE = data.columns[j].split(\" \")[1]\n",
    "\n",
    "        appendage = 0\n",
    "\n",
    "        for k in range(len(aggregate_data)):\n",
    "\n",
    "            if aggregate_data.loc[k, \"Date\"] == DATE and aggregate_data.loc[k, \"LSOA\"] == LSOA:\n",
    "\n",
    "                appendage = aggregate_data.loc[k, \"CB & B Count\"]\n",
    "        \n",
    "        cbandb_counts.append(appendage)\n",
    "            "
   ]
  },
  {
   "cell_type": "code",
   "execution_count": null,
   "metadata": {},
   "outputs": [],
   "source": [
    "flytipping_counts = []\n",
    "\n",
    "for i in range(nLSOAs):\n",
    "    \n",
    "    flytipping_counts.extend(data.iloc[i,1:nMonths+1].tolist())"
   ]
  },
  {
   "cell_type": "code",
   "execution_count": null,
   "metadata": {},
   "outputs": [],
   "source": [
    "arson_counts = []\n",
    "\n",
    "for i in range(nLSOAs):\n",
    "    \n",
    "    arson_counts.extend(data.iloc[i,nMonths+1:2*nMonths+1].tolist())"
   ]
  },
  {
   "cell_type": "code",
   "execution_count": null,
   "metadata": {},
   "outputs": [],
   "source": [
    "dates = [x.split(\" \")[1] for x in data.columns[1:nMonths+1]] * nLSOAs\n",
    "months = [x.split(\"/\")[0] for x in dates]\n",
    "years = [x.split(\"/\")[1] for x in dates]"
   ]
  },
  {
   "cell_type": "code",
   "execution_count": null,
   "metadata": {},
   "outputs": [],
   "source": [
    "lsoas = [x for x in data.iloc[:,0] for _ in range(nMonths)]"
   ]
  },
  {
   "cell_type": "code",
   "execution_count": null,
   "metadata": {},
   "outputs": [],
   "source": [
    "imd_deciles = [x for x in data.IMD for _ in range(nMonths)]"
   ]
  },
  {
   "cell_type": "code",
   "execution_count": null,
   "metadata": {},
   "outputs": [],
   "source": [
    "df = pd.DataFrame({\"Month\": months, \"Year\": years, \"LSOA\": lsoas, \"IMD Decile\": imd_deciles, \"Flytipping Count\": flytipping_counts,\n",
    "                   \"CB & B Count\": cbandb_counts, \"Arson Count\": arson_counts})"
   ]
  },
  {
   "cell_type": "code",
   "execution_count": null,
   "metadata": {},
   "outputs": [],
   "source": [
    "df.head()"
   ]
  },
  {
   "cell_type": "code",
   "execution_count": null,
   "metadata": {},
   "outputs": [],
   "source": [
    "categorical_cols = [\"Month\", \"Year\", \"LSOA\"]"
   ]
  },
  {
   "cell_type": "code",
   "execution_count": null,
   "metadata": {},
   "outputs": [],
   "source": [
    "encoder = OneHotEncoder(drop=\"first\", sparse=False)\n",
    "\n",
    "dummy_view = encoder.fit_transform(df[categorical_cols])"
   ]
  },
  {
   "cell_type": "code",
   "execution_count": null,
   "metadata": {},
   "outputs": [],
   "source": [
    "encoded_df = pd.DataFrame(dummy_view)"
   ]
  },
  {
   "cell_type": "code",
   "execution_count": null,
   "metadata": {},
   "outputs": [],
   "source": [
    "encoded_df.columns = encoder.get_feature_names(categorical_cols)"
   ]
  },
  {
   "cell_type": "code",
   "execution_count": null,
   "metadata": {},
   "outputs": [],
   "source": [
    "df.drop(categorical_cols, axis=1, inplace=True)"
   ]
  },
  {
   "cell_type": "code",
   "execution_count": null,
   "metadata": {},
   "outputs": [],
   "source": [
    "df = encoded_df.join(df)"
   ]
  },
  {
   "cell_type": "code",
   "execution_count": null,
   "metadata": {},
   "outputs": [],
   "source": [
    "training_set, test_set = train_test_split(df, test_size = 0.33, random_state=1)\n",
    "\n",
    "ncols = len(df.columns)"
   ]
  },
  {
   "cell_type": "code",
   "execution_count": null,
   "metadata": {},
   "outputs": [],
   "source": [
    "X_train = training_set.iloc[:,:-1]\n",
    "y_train = training_set.iloc[:,-1]\n",
    "X_test = test_set.iloc[:,:-1]\n",
    "y_test = test_set.iloc[:,-1]"
   ]
  },
  {
   "cell_type": "code",
   "execution_count": null,
   "metadata": {},
   "outputs": [],
   "source": [
    "adaboost = AdaBoostClassifier(random_state=1)\n",
    "adaboost.fit(X_train, y_train)\n",
    "\n",
    "rf = RandomForestClassifier(random_state=1)\n",
    "rf.fit(X_train, y_train)\n",
    "\n",
    "xgboost = GradientBoostingClassifier(random_state=1)\n",
    "xgboost.fit(X_train, y_train)\n",
    "\n",
    "mlp = MLPClassifier(random_state=1)\n",
    "mlp.fit(X_train, y_train)\n",
    "\n",
    "y_ada_pred = adaboost.predict(X_test)\n",
    "test_set.insert(ncols, \"AdaBoost Predictions\", y_ada_pred)\n",
    "\n",
    "y_rf_pred = rf.predict(X_test)\n",
    "test_set.insert(ncols+1, \"RF Predictions\", y_rf_pred)\n",
    "\n",
    "y_xg_pred = xgboost.predict(X_test)\n",
    "test_set.insert(ncols+2, \"XGBoost Predictions\", y_xg_pred)\n",
    "\n",
    "y_mlp_pred = mlp.predict(X_test)\n",
    "test_set.insert(ncols+3, \"MLP Predictions\", y_mlp_pred)\n",
    "\n",
    "no_classifiers = 4"
   ]
  },
  {
   "cell_type": "code",
   "execution_count": null,
   "metadata": {},
   "outputs": [],
   "source": [
    "test_set[test_set[\"Arson Count\"] >= 1]"
   ]
  },
  {
   "cell_type": "code",
   "execution_count": null,
   "metadata": {},
   "outputs": [],
   "source": [
    "for i in range(no_classifiers, 0, -1):\n",
    "    \n",
    "    print(test_set.columns[-i], mean_squared_error(test_set[\"Arson Count\"], test_set.iloc[:,-i]))"
   ]
  },
  {
   "cell_type": "code",
   "execution_count": null,
   "metadata": {},
   "outputs": [],
   "source": [
    "features = rf.feature_importances_\n",
    "\n",
    "ftrs = pd.DataFrame({\"column_name\": df.columns[:-1], \"score\": features}).sort_values(by = \"score\", ascending = False).reset_index(drop=True)\n",
    "\n",
    "plt.figure(figsize=(10,8))\n",
    "sns.barplot(y = ftrs.loc[:15, \"column_name\"], x = ftrs.loc[:15, \"score\"])\n",
    "plt.title(\"Random Forest Feature Importance\")\n",
    "plt.xlabel(\"Score\")\n",
    "plt.ylabel(\"Column Names\")\n",
    "plt.show()"
   ]
  }
 ],
 "metadata": {
  "interpreter": {
   "hash": "14eabb916c6544ec72073d369246e9786cf732268ebd379f4cd554d89eecb526"
  },
  "kernelspec": {
   "display_name": "Python 3.9.6 64-bit",
   "name": "python3"
  },
  "language_info": {
   "codemirror_mode": {
    "name": "ipython",
    "version": 3
   },
   "file_extension": ".py",
   "mimetype": "text/x-python",
   "name": "python",
   "nbconvert_exporter": "python",
   "pygments_lexer": "ipython3",
   "version": "3.9.6"
  },
  "orig_nbformat": 4
 },
 "nbformat": 4,
 "nbformat_minor": 2
}
