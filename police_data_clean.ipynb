{
 "cells": [
  {
   "cell_type": "code",
   "execution_count": null,
   "id": "5b2f59a9",
   "metadata": {},
   "outputs": [],
   "source": [
    "import pandas as pd"
   ]
  },
  {
   "cell_type": "code",
   "execution_count": null,
   "id": "5fca68a2",
   "metadata": {},
   "outputs": [],
   "source": [
    "file_path = \"C:\\\\Users\\\\agozacan\\\\OneDrive - Humberside Fire and Rescue Service\\\\Arson Project\\\\Police Data\\\\Each Month\\\\\"\n",
    "\n",
    "# months = [\"2020-08\", \"2020-09\", \"2020-10\", \"2020-11\", \"2020-12\", \"2021-01\",\n",
    "#           \"2021-02\", \"2021-03\", \"2021-04\", \"2021-05\", \"2021-06\", \"2021-07\"]\n",
    "\n",
    "months = [\"2018-08\",\"2018-09\",\"2018-10\",\"2018-11\",\"2018-12\",\"2019-01\",\"2019-02\",\n",
    "          \"2019-03\",\"2019-04\",\"2019-05\",\"2019-06\",\"2019-07\",\"2019-08\",\"2019-09\",\n",
    "          \"2019-10\",\"2019-11\",\"2019-12\",\"2020-01\",\"2020-02\",\"2020-03\",\"2020-04\",\n",
    "          \"2020-05\",\"2020-06\",\"2020-07\",\"2020-08\",\"2020-09\",\"2020-10\",\"2020-11\",\n",
    "          \"2020-12\",\"2021-01\",\"2021-02\",\"2021-03\",\"2021-04\",\"2021-05\",\"2021-06\",\"2021-07\"]"
   ]
  },
  {
   "cell_type": "code",
   "execution_count": null,
   "id": "82109fd4",
   "metadata": {},
   "outputs": [],
   "source": [
    "for i in range(len(months)):\n",
    "    if i == 0:\n",
    "        data = pd.read_csv(file_path + months[i] + \"\\\\\" + months[i] + \"-humberside-street.csv\")\n",
    "        df = pd.DataFrame(data)\n",
    "    else:\n",
    "        df = pd.concat([df, pd.DataFrame(pd.read_csv(file_path + months[i] +\n",
    "                                                    \"\\\\\" + months[i] + \"-humberside-street.csv\"))]).reset_index(drop=True)"
   ]
  },
  {
   "cell_type": "code",
   "execution_count": null,
   "id": "4175d07c",
   "metadata": {},
   "outputs": [],
   "source": [
    "df.drop([\"Crime ID\", \"Reported by\", \"Falls within\", \"LSOA name\", \"Last outcome category\", \"Context\"], 1, inplace=True)"
   ]
  },
  {
   "cell_type": "code",
   "execution_count": null,
   "id": "fae1c328",
   "metadata": {},
   "outputs": [],
   "source": [
    "set(df[\"Month\"])"
   ]
  },
  {
   "cell_type": "code",
   "execution_count": null,
   "id": "a6c6cb22",
   "metadata": {
    "scrolled": true
   },
   "outputs": [],
   "source": [
    "entries = []\n",
    "for i in range(len(df[\"Location\"])):\n",
    "    entries.append(df[\"Location\"][i].replace(\"On or near \", \"\"))\n",
    "df.Location = entries\n",
    "df.head()"
   ]
  },
  {
   "cell_type": "code",
   "execution_count": null,
   "id": "91ca8b6e",
   "metadata": {},
   "outputs": [],
   "source": [
    "df.to_csv(file_path + \"combined_data.csv\", index=False)"
   ]
  }
 ],
 "metadata": {
  "kernelspec": {
   "display_name": "Python 3 (ipykernel)",
   "language": "python",
   "name": "python3"
  },
  "language_info": {
   "codemirror_mode": {
    "name": "ipython",
    "version": 3
   },
   "file_extension": ".py",
   "mimetype": "text/x-python",
   "name": "python",
   "nbconvert_exporter": "python",
   "pygments_lexer": "ipython3",
   "version": "3.9.6"
  }
 },
 "nbformat": 4,
 "nbformat_minor": 5
}
