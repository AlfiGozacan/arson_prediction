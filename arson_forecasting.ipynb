{
 "cells": [
  {
   "cell_type": "code",
   "execution_count": null,
   "id": "6edfd968",
   "metadata": {},
   "outputs": [],
   "source": [
    "import pandas as pd\n",
    "import numpy as np\n",
    "import matplotlib.pyplot as plt\n",
    "from statsmodels.tsa.statespace.sarimax import SARIMAX"
   ]
  },
  {
   "cell_type": "code",
   "execution_count": null,
   "id": "4340e484",
   "metadata": {},
   "outputs": [],
   "source": [
    "import warnings\n",
    "warnings.filterwarnings(\"ignore\")"
   ]
  },
  {
   "cell_type": "code",
   "execution_count": null,
   "id": "e8c10962",
   "metadata": {},
   "outputs": [],
   "source": [
    "data = pd.read_csv(\"C:\\\\Users\\\\agozacan\\\\OneDrive - Humberside Fire and Rescue Service\\\\Arson Project\\\\inc_per_lsoa.csv\")\n",
    "df = pd.DataFrame(data)"
   ]
  },
  {
   "cell_type": "code",
   "execution_count": null,
   "id": "3e27e4ef",
   "metadata": {},
   "outputs": [],
   "source": [
    "df.head()"
   ]
  },
  {
   "cell_type": "code",
   "execution_count": null,
   "id": "7faf2aa6",
   "metadata": {
    "collapsed": true
   },
   "outputs": [],
   "source": [
    "plt.plot(range(70), df.iloc[0, 1:71], label = \"Flytipping\");\n",
    "plt.plot(range(72), df.iloc[0, 71:144], label = \"Arson\");\n",
    "plt.legend(loc = \"upper left\");"
   ]
  },
  {
   "cell_type": "code",
   "execution_count": null,
   "id": "822b943c",
   "metadata": {},
   "outputs": [],
   "source": [
    "model = SARIMAX(endog = np.array(df.iloc[0, 71:131], dtype = float), exog = np.array(df.iloc[0, 1:61], dtype = float), order = (1, 1, 1), seasonal_order = (1, 1, 1, 5))\n",
    "model_fit = model.fit(disp = False)"
   ]
  },
  {
   "cell_type": "code",
   "execution_count": null,
   "id": "829226dc",
   "metadata": {
    "scrolled": false
   },
   "outputs": [],
   "source": [
    "yhat = model_fit.predict(start = 1, end = 100, dynamic = False, exog = [list(np.array(df.iloc[0, 61:71], dtype = float)) + [0 for i in range(31)]])\n",
    "plt.plot(range(100), list(df.iloc[0, 1:71]) + [0 for i in range(30)], label = \"Flytipping\")\n",
    "plt.plot(range(100), yhat, label = \"Arson Prediction\");\n",
    "plt.plot(range(100), list(df.iloc[0, 71:141]) + [0 for i in range(30)], label = \"Arson Actual\");\n",
    "plt.legend(loc = \"upper left\");"
   ]
  },
  {
   "cell_type": "code",
   "execution_count": null,
   "id": "1f5aa81a",
   "metadata": {
    "scrolled": true
   },
   "outputs": [],
   "source": [
    "next_year = model_fit.predict(start = 61, end = 72, dynamic = False, exog = [list(np.array(df.iloc[0, 61:71], dtype = float)) + [0, 0, 0]])\n",
    "plt.plot(range(12), list(next_year), label = \"Arson Prediction\");\n",
    "plt.plot(range(12), df.iloc[0, 131:143], label = \"Arson Actual\");\n",
    "plt.legend(loc = \"upper left\");"
   ]
  },
  {
   "cell_type": "code",
   "execution_count": null,
   "id": "6b379bee",
   "metadata": {
    "scrolled": true
   },
   "outputs": [],
   "source": [
    "# Pick and choose LSOAs\n",
    "\n",
    "# fig, axs = plt.subplots(3)\n",
    "\n",
    "for i in [0, 1, 2]:\n",
    "    plt.plot(range(70), df.iloc[i, 1:71], label = \"Flytipping\");\n",
    "    plt.plot(range(72), df.iloc[i, 71:144], label = \"Arson\");\n",
    "    plt.legend(loc = \"upper left\");\n",
    "    plt.show()\n",
    "\n",
    "    model = SARIMAX(endog = np.array(df.iloc[i, 71:131], dtype = float), exog = np.array(df.iloc[i, 1:61], dtype = float), order = (1, 1, 1), seasonal_order = (1, 1, 1, 5))\n",
    "    model_fit = model.fit(disp = False)\n",
    "\n",
    "    yhat = model_fit.predict(start = 1, end = 100, dynamic = False, exog = [list(np.array(df.iloc[i, 61:71], dtype = float)) + [0 for j in range(31)]])\n",
    "    \n",
    "    #axs[i].plot(range(100), list(df.iloc[i, 1:71]) + [0 for j in range(30)], label = \"Flytipping\")\n",
    "    #axs[i].plot(range(100), yhat, label = \"Arson Prediction\");\n",
    "    #axs[i].plot(range(100), list(df.iloc[i, 71:141]) + [0 for j in range(30)], label = \"Arson Actual\");\n",
    "    #axs[i].legend(loc = \"upper right\");\n",
    "    \n",
    "    plt.plot(range(100), list(df.iloc[i, 1:71]) + [0 for j in range(30)], label = \"Flytipping\")\n",
    "    plt.plot(range(100), yhat, label = \"Arson Prediction\");\n",
    "    plt.plot(range(100), list(df.iloc[i, 71:141]) + [0 for j in range(30)], label = \"Arson Actual\");\n",
    "    plt.legend(loc = \"upper left\");\n",
    "    plt.show()\n",
    "\n",
    "    next_year = model_fit.predict(start = 61, end = 72, dynamic = False, exog = [list(np.array(df.iloc[i, 61:71], dtype = float)) + [0, 0, 0]])\n",
    "    plt.plot(range(12), list(next_year), label = \"Arson Prediction\");\n",
    "    plt.plot(range(12), df.iloc[i, 131:143], label = \"Arson Actual\");\n",
    "    plt.legend(loc = \"upper left\");\n",
    "    plt.show()\n",
    "    \n",
    "    if np.linalg.norm(next_year) == 0 or np.linalg.norm(df.iloc[i, 131:143]) == 0:\n",
    "        print(\"Levels are zero.\")\n",
    "    else:\n",
    "        print(\"Angle:\", np.arccos(np.dot(next_year, df.iloc[i, 131:143]) / (np.linalg.norm(next_year) * np.linalg.norm(df.iloc[i, 131:143]))))\n",
    "\n",
    "#fig.set_size_inches(18.5, 10.5)\n",
    "#plt.savefig(\"C:\\\\Users\\\\agozacan\\\\OneDrive - Humberside Fire and Rescue Service\\\\Arson Project\\\\Pictures\\\\output_top_3.png\", dpi = 200)"
   ]
  },
  {
   "cell_type": "code",
   "execution_count": null,
   "id": "d4229f54",
   "metadata": {
    "scrolled": true
   },
   "outputs": [],
   "source": [
    "# Print metrics for all LSOAs\n",
    "\n",
    "for i in range(len(df[\"lsoa_code\"])):\n",
    "    model = SARIMAX(endog = np.array(df.iloc[i, 71:131], dtype = float), exog = np.array(df.iloc[i, 1:61], dtype = float), order = (1, 1, 1), seasonal_order = (1, 1, 1, 5))\n",
    "    model_fit = model.fit(disp = False)\n",
    "    next_year = model_fit.predict(start = 61, end = 72, dynamic = False, exog = [list(np.array(df.iloc[i, 61:71], dtype = float)) + [0, 0, 0]])\n",
    "    \n",
    "    if np.linalg.norm(next_year) == 0 or np.linalg.norm(df.iloc[i, 131:143]) == 0:\n",
    "        print(\"Levels are zero.\")\n",
    "    else:\n",
    "        print(\"Angle:\", np.arccos(np.dot(next_year, df.iloc[i, 131:143]) / (np.linalg.norm(next_year) * np.linalg.norm(df.iloc[i, 131:143]))))"
   ]
  },
  {
   "cell_type": "code",
   "execution_count": null,
   "id": "3683676f",
   "metadata": {},
   "outputs": [],
   "source": []
  },
  {
   "cell_type": "code",
   "execution_count": null,
   "id": "094ac0b6",
   "metadata": {},
   "outputs": [],
   "source": [
    "df.loc[\"Total\"] = df.sum()"
   ]
  },
  {
   "cell_type": "code",
   "execution_count": null,
   "id": "4e415b24",
   "metadata": {},
   "outputs": [],
   "source": [
    "df.loc[\"Total\", \"lsoa_code\"] = \"\""
   ]
  },
  {
   "cell_type": "code",
   "execution_count": null,
   "id": "4f4fd9aa",
   "metadata": {
    "scrolled": true
   },
   "outputs": [],
   "source": [
    "df.tail()"
   ]
  },
  {
   "cell_type": "code",
   "execution_count": null,
   "id": "b333acf7",
   "metadata": {
    "scrolled": true
   },
   "outputs": [],
   "source": [
    "# Total of all LSOAs\n",
    "\n",
    "plt.plot(range(70), df.iloc[215, 1:71], label = \"Flytipping\");\n",
    "plt.plot(range(72), df.iloc[215, 71:144], label = \"Arson\");\n",
    "plt.legend(loc = \"upper left\");\n",
    "plt.show()\n",
    "\n",
    "model = SARIMAX(endog = np.array(df.iloc[215, 71:131], dtype = float), exog = np.array(df.iloc[215, 1:61], dtype = float), order = (1, 1, 1), seasonal_order = (1, 1, 1, 5))\n",
    "model_fit = model.fit(disp = False)\n",
    "\n",
    "#plt.rcParams[\"figure.figsize\"] = (15, 5)\n",
    "yhat = model_fit.predict(start = 1, end = 100, dynamic = False, exog = [list(np.array(df.iloc[215, 61:71], dtype = float)) + [0 for j in range(31)]])\n",
    "plt.plot(range(100), list(df.iloc[215, 1:71]) + [0 for j in range(30)], label = \"Flytipping\")\n",
    "plt.plot(range(100), yhat, label = \"Arson Prediction\");\n",
    "plt.plot(range(100), list(df.iloc[215, 71:141]) + [0 for j in range(30)], label = \"Arson Actual\");\n",
    "plt.legend(loc = \"upper right\");\n",
    "#plt.savefig(\"C:\\\\Users\\\\agozacan\\\\OneDrive - Humberside Fire and Rescue Service\\\\Arson Project\\\\Pictures\\\\output2.png\", dpi = 200)\n",
    "plt.show()\n",
    "#plt.rcParams[\"figure.figsize\"] = plt.rcParamsDefault[\"figure.figsize\"]\n",
    "\n",
    "next_year = model_fit.predict(start = 61, end = 72, dynamic = False, exog = [list(np.array(df.iloc[215, 61:71], dtype = float)) + [0, 0, 0]])\n",
    "plt.plot(range(12), list(next_year), label = \"Arson Prediction\");\n",
    "plt.plot(range(12), df.iloc[215, 131:143], label = \"Arson Actual\");\n",
    "plt.legend(loc = \"upper left\");\n",
    "plt.show()\n",
    "\n",
    "print(\"Angle:\", np.arccos(np.dot(next_year, df.iloc[215, 131:143]) / (np.linalg.norm(next_year) * np.linalg.norm(df.iloc[215, 131:143]))))"
   ]
  }
 ],
 "metadata": {
  "kernelspec": {
   "display_name": "Python 3 (ipykernel)",
   "language": "python",
   "name": "python3"
  },
  "language_info": {
   "codemirror_mode": {
    "name": "ipython",
    "version": 3
   },
   "file_extension": ".py",
   "mimetype": "text/x-python",
   "name": "python",
   "nbconvert_exporter": "python",
   "pygments_lexer": "ipython3",
   "version": "3.9.6"
  }
 },
 "nbformat": 4,
 "nbformat_minor": 5
}
