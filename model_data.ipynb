{
 "cells": [
  {
   "cell_type": "code",
   "execution_count": null,
   "metadata": {},
   "outputs": [],
   "source": [
    "import pandas as pd\n",
    "from sklearn.preprocessing import OneHotEncoder\n",
    "from tqdm import tqdm"
   ]
  },
  {
   "cell_type": "code",
   "execution_count": null,
   "metadata": {},
   "outputs": [],
   "source": [
    "nLSOAs = 215\n",
    "nMonths = 70"
   ]
  },
  {
   "cell_type": "code",
   "execution_count": null,
   "metadata": {},
   "outputs": [],
   "source": [
    "### READ IN DATA GIVING FLYTIPPING AND ARSON INCIDENT COUNT PER LSOA PER MONTH ###\n",
    "\n",
    "data = pd.read_csv(\"C:\\\\Users\\\\agozacan\\\\OneDrive - Humberside Fire and Rescue Service\\\\Arson Project\\\\inc_per_lsoa.csv\")"
   ]
  },
  {
   "cell_type": "code",
   "execution_count": null,
   "metadata": {},
   "outputs": [],
   "source": [
    "### READ IN DATA GIVING IMD DECILE FOR EVERY LSOA IN ENGLAND ###\n",
    "\n",
    "imd_data = pd.read_csv(\"C:\\\\Users\\\\agozacan\\\\OneDrive - Humberside Fire and Rescue Service\\\\Arson Project\\\\imd_2019_lsoa.csv\")"
   ]
  },
  {
   "cell_type": "code",
   "execution_count": null,
   "metadata": {},
   "outputs": [],
   "source": [
    "### READ IN WEATHER DATA ###\n",
    "\n",
    "weather_data = pd.read_csv(\"C:\\\\Users\\\\agozacan\\\\OneDrive - Humberside Fire and Rescue Service\\\\Arson Project\\\\Weather Data\\\\weather.csv\")"
   ]
  },
  {
   "cell_type": "code",
   "execution_count": null,
   "metadata": {},
   "outputs": [],
   "source": [
    "### READ IN DATA GIVING CONTROLLED BURNING AND BONFIRE (CB & B) INCIDENTS WITH LSOA AND DATE INFO, THEN TURN DATE COLUMN INTO JUST MONTH AND YEAR ###\n",
    "\n",
    "cbandb_data = pd.read_csv(\"C:\\\\Users\\\\agozacan\\\\OneDrive - Humberside Fire and Rescue Service\\\\Arson Project\\\\cbandb.csv\")\n",
    "cbandb_data[\"monthyear\"] = [x.split(\" \")[0][3:] for x in cbandb_data.inc_time_of_call]"
   ]
  },
  {
   "cell_type": "code",
   "execution_count": null,
   "metadata": {},
   "outputs": [],
   "source": [
    "### AGGREGATE THE CB & B DATA BY DATE AND LSOA TO GIVE COUNTS ###\n",
    "\n",
    "aggregate_data = cbandb_data[[\"monthyear\", \"LSOA\"]].value_counts().rename_axis([\"Date\", \"LSOA\"]).reset_index(name=\"CB & B Count\")"
   ]
  },
  {
   "cell_type": "code",
   "execution_count": null,
   "metadata": {},
   "outputs": [],
   "source": [
    "### ATTACH IMD DECILE TO THE INCIDENTS DATA ###\n",
    "\n",
    "for i in range(nLSOAs):\n",
    "\n",
    "    data.loc[i,\"IMD\"] = int(imd_data[imd_data[\"lsoa_code\"] == data.loc[i, \"lsoa_code\"]].imd_decile)"
   ]
  },
  {
   "cell_type": "code",
   "execution_count": null,
   "metadata": {},
   "outputs": [],
   "source": [
    "### CREATE LIST OF CB & B INCIDENT COUNTS. THIS LIST CORRESPONDS TO A MATRIX OF DIMENSIONS nLSOAs x nMonths ###\n",
    "\n",
    "cbandb_counts = []\n",
    "\n",
    "for i in tqdm(range(nLSOAs)):\n",
    "\n",
    "    for j in range(1,nMonths+1):\n",
    "\n",
    "        LSOA = data.loc[i, \"lsoa_code\"]\n",
    "        DATE = data.columns[j].split(\" \")[1]\n",
    "\n",
    "        appendage = 0\n",
    "\n",
    "        for k in range(len(aggregate_data)):\n",
    "\n",
    "            if aggregate_data.loc[k, \"Date\"] == DATE and aggregate_data.loc[k, \"LSOA\"] == LSOA:\n",
    "\n",
    "                appendage = aggregate_data.loc[k, \"CB & B Count\"]\n",
    "        \n",
    "        cbandb_counts.append(appendage)\n",
    "            "
   ]
  },
  {
   "cell_type": "code",
   "execution_count": null,
   "metadata": {},
   "outputs": [],
   "source": [
    "### FLATTEN THE FLYTIPPING COUNTS TO A LIST, ALSO CORRESPONDING TO A MATRIX OF DIMENSIONS nLSOAs x nMonths ###\n",
    "\n",
    "flytipping_counts = []\n",
    "\n",
    "for i in range(nLSOAs):\n",
    "    \n",
    "    flytipping_counts.extend(data.iloc[i,1:nMonths+1].tolist())"
   ]
  },
  {
   "cell_type": "code",
   "execution_count": null,
   "metadata": {},
   "outputs": [],
   "source": [
    "### DITTO BUT FOR ARSON COUNTS ###\n",
    "\n",
    "arson_counts = []\n",
    "\n",
    "for i in range(nLSOAs):\n",
    "    \n",
    "    arson_counts.extend(data.iloc[i,nMonths+1:2*nMonths+1].tolist())"
   ]
  },
  {
   "cell_type": "code",
   "execution_count": null,
   "metadata": {},
   "outputs": [],
   "source": [
    "### SPLIT DATES INTO MONTHS AND YEARS ###\n",
    "\n",
    "dates = [x.split(\" \")[1] for x in data.columns[1:nMonths+1]] * nLSOAs\n",
    "months = [x.split(\"/\")[0] for x in dates]\n",
    "years = [x.split(\"/\")[1] for x in dates]"
   ]
  },
  {
   "cell_type": "code",
   "execution_count": null,
   "metadata": {},
   "outputs": [],
   "source": [
    "### MAKE LIST OF LSOAS SO THAT EACH LSOA REPEATS nMonths TIMES CONSECUTIVELY ###\n",
    "\n",
    "lsoas = [x for x in data.iloc[:,0] for _ in range(nMonths)]"
   ]
  },
  {
   "cell_type": "code",
   "execution_count": null,
   "metadata": {},
   "outputs": [],
   "source": [
    "### DITTO BUT FOR THE IMD DECILES CORRESPONDING TO THE LSOAs ###\n",
    "\n",
    "imd_deciles = [x for x in data.IMD for _ in range(nMonths)]"
   ]
  },
  {
   "cell_type": "code",
   "execution_count": null,
   "metadata": {},
   "outputs": [],
   "source": [
    "### TURN WEATHER DATA INTO USABLE FORM ###\n",
    "\n",
    "max_temp = list(weather_data.max_temp[3:73]) * nLSOAs\n",
    "min_temp = list(weather_data.min_temp[3:73]) * nLSOAs\n",
    "af_days = list(weather_data.af_days[3:73]) * nLSOAs        # AF - Air Frost\n",
    "rain_mm = list(weather_data.rain_mm[3:73]) * nLSOAs\n",
    "sun_hours = list(weather_data.sun_hours[3:73]) * nLSOAs"
   ]
  },
  {
   "cell_type": "code",
   "execution_count": null,
   "metadata": {},
   "outputs": [],
   "source": [
    "### LOAD ALL OF THIS INTO A NEW DATAFRAME ###\n",
    "\n",
    "df = pd.DataFrame({\"Month\": months, \"Year\": years, \"Max Temp\": max_temp, \"Min Temp\": min_temp, \"AF Days\": af_days,\n",
    "                   \"Rainfall\": rain_mm, \"Hours of Sun\": sun_hours, \"LSOA\": lsoas, \"IMD Decile\": imd_deciles, \"Flytipping Count\": flytipping_counts,\n",
    "                   \"CB & B Count\": cbandb_counts, \"Arson Count\": arson_counts})"
   ]
  },
  {
   "cell_type": "code",
   "execution_count": null,
   "metadata": {},
   "outputs": [],
   "source": [
    "### MAKE A LIST OF WHICH FEATURES ARE CATEGORICAL (i.e. NOT ORDERED NUMERIC) ###\n",
    "\n",
    "categorical_cols = [\"Month\", \"Year\", \"LSOA\"]"
   ]
  },
  {
   "cell_type": "code",
   "execution_count": null,
   "metadata": {},
   "outputs": [],
   "source": [
    "### INITIATE A DUMMY ENCODING FOR THE CATEGORICAL COLUMNS SO THAT THE MODEL CAN LEARN PROPERLY ###\n",
    "\n",
    "encoder = OneHotEncoder(drop=\"first\", sparse=False)\n",
    "\n",
    "dummy_view = encoder.fit_transform(df[categorical_cols])"
   ]
  },
  {
   "cell_type": "code",
   "execution_count": null,
   "metadata": {},
   "outputs": [],
   "source": [
    "### STORE THIS DUMMY ENCODED DATA INTO A NEW DATAFRAME ###\n",
    "\n",
    "encoded_df = pd.DataFrame(dummy_view)"
   ]
  },
  {
   "cell_type": "code",
   "execution_count": null,
   "metadata": {},
   "outputs": [],
   "source": [
    "### NAME THESE COLUMNS IN THE FORMAT \"columnname_value\" ###\n",
    "\n",
    "encoded_df.columns = encoder.get_feature_names(categorical_cols)"
   ]
  },
  {
   "cell_type": "code",
   "execution_count": null,
   "metadata": {},
   "outputs": [],
   "source": [
    "### DROP THE INITIAL CATEGORICAL COLUMNS ###\n",
    "\n",
    "df.drop(categorical_cols, axis=1, inplace=True)"
   ]
  },
  {
   "cell_type": "code",
   "execution_count": null,
   "metadata": {},
   "outputs": [],
   "source": [
    "### ATTACH THE NEW DUMMY ENCODED COLUMNS ###\n",
    "\n",
    "df = encoded_df.join(df)"
   ]
  },
  {
   "cell_type": "code",
   "execution_count": null,
   "metadata": {},
   "outputs": [],
   "source": [
    "### SAVE THIS FINAL DATAFRAME FOR USE IN ml_models.ipynb ###\n",
    "\n",
    "df.to_csv(\"C:\\\\Users\\\\agozacan\\\\OneDrive - Humberside Fire and Rescue Service\\\\Arson Project\\\\Clean Data\\\\model_data.csv\", index=False)"
   ]
  }
 ],
 "metadata": {
  "interpreter": {
   "hash": "14eabb916c6544ec72073d369246e9786cf732268ebd379f4cd554d89eecb526"
  },
  "kernelspec": {
   "display_name": "Python 3.9.6 64-bit",
   "name": "python3"
  },
  "language_info": {
   "codemirror_mode": {
    "name": "ipython",
    "version": 3
   },
   "file_extension": ".py",
   "mimetype": "text/x-python",
   "name": "python",
   "nbconvert_exporter": "python",
   "pygments_lexer": "ipython3",
   "version": "3.9.6"
  },
  "orig_nbformat": 4
 },
 "nbformat": 4,
 "nbformat_minor": 2
}
