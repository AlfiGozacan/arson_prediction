{
 "cells": [
  {
   "cell_type": "code",
   "execution_count": null,
   "id": "ea62abf2",
   "metadata": {},
   "outputs": [],
   "source": [
    "import pandas as pd\n",
    "import matplotlib.pyplot as plt\n",
    "from fuzzywuzzy import fuzz\n",
    "from fuzzywuzzy import process"
   ]
  },
  {
   "cell_type": "code",
   "execution_count": null,
   "id": "4bcc5186",
   "metadata": {},
   "outputs": [],
   "source": [
    "data = pd.read_csv(\"C:\\\\Users\\\\agozacan\\\\OneDrive - Humberside Fire and Rescue Service\\\\Arson Project\\\\historic_flytipping.csv\")\n",
    "df = pd.DataFrame(data)"
   ]
  },
  {
   "cell_type": "code",
   "execution_count": null,
   "id": "0d215ad1",
   "metadata": {},
   "outputs": [],
   "source": [
    "df.head()"
   ]
  },
  {
   "cell_type": "code",
   "execution_count": null,
   "id": "70716ad1",
   "metadata": {},
   "outputs": [],
   "source": [
    "df.info()"
   ]
  },
  {
   "cell_type": "code",
   "execution_count": null,
   "id": "fa903575",
   "metadata": {},
   "outputs": [],
   "source": [
    "df.shape"
   ]
  },
  {
   "cell_type": "code",
   "execution_count": null,
   "id": "df83eb68",
   "metadata": {},
   "outputs": [],
   "source": [
    "df.columns = [col.lower() for col in df]\n",
    "df.columns"
   ]
  },
  {
   "cell_type": "code",
   "execution_count": null,
   "id": "15864f69",
   "metadata": {},
   "outputs": [],
   "source": [
    "df.isnull().sum()"
   ]
  },
  {
   "cell_type": "code",
   "execution_count": null,
   "id": "e1505364",
   "metadata": {},
   "outputs": [],
   "source": [
    "pd.options.display.max_rows = 10000"
   ]
  },
  {
   "cell_type": "code",
   "execution_count": null,
   "id": "4944d887",
   "metadata": {},
   "outputs": [],
   "source": [
    "pd.Series(\" \".join([str(thing) for thing in df[\"tipped_item_description\"]]).lower().split()).value_counts()[:100]"
   ]
  },
  {
   "cell_type": "code",
   "execution_count": null,
   "id": "ea6b1eae",
   "metadata": {},
   "outputs": [],
   "source": [
    "df.insert(df.columns.get_loc(\"tipped_item_description\"), \"tipped_item_category\", \"\")"
   ]
  },
  {
   "cell_type": "code",
   "execution_count": null,
   "id": "889a8367",
   "metadata": {},
   "outputs": [],
   "source": [
    "tipped_item_categories = [\"Rubbish\", \"Waste\", \"Plastic\", \"Cardboard\", \"Boxes\",\n",
    "                          \"Bags\", \"Mattress\", \"Sofa\", \"Fridge\", \"Carpet\",\n",
    "                          \"Cardboard\", \"TV\", \"Bed\", \"Furniture\", \"Wood\",\n",
    "                          \"Glass\", \"Clothes\", \"Metal\", \"Litter\", \"Toys\",\n",
    "                          \"Unknown\", \"Freezer\", \"Trolley\", \"Chair\", \"Bin\"]"
   ]
  },
  {
   "cell_type": "code",
   "execution_count": null,
   "id": "f84a0dfb",
   "metadata": {},
   "outputs": [],
   "source": [
    "for i in range(len(df.index)):\n",
    "    item_scores = []\n",
    "    for item in tipped_item_categories:\n",
    "        item_scores.append(fuzz.token_set_ratio(df.iloc[i, df.columns.get_loc(\"tipped_item_description\")], item))\n",
    "    if max(item_scores) > 50:\n",
    "        df.iloc[i, df.columns.get_loc(\"tipped_item_category\")] = tipped_item_categories[item_scores.index(max(item_scores))]\n",
    "    else:\n",
    "        df.iloc[i, df.columns.get_loc(\"tipped_item_category\")] = \"Other\""
   ]
  },
  {
   "cell_type": "code",
   "execution_count": null,
   "id": "1f738065",
   "metadata": {
    "scrolled": true
   },
   "outputs": [],
   "source": [
    "(df[\"tipped_item_category\"] == \"Rubbish\").sum()"
   ]
  },
  {
   "cell_type": "code",
   "execution_count": null,
   "id": "ab884cbf",
   "metadata": {},
   "outputs": [],
   "source": [
    "df.head(100)"
   ]
  },
  {
   "cell_type": "code",
   "execution_count": null,
   "id": "3fca4a31",
   "metadata": {},
   "outputs": [],
   "source": [
    "df.to_csv(\"C:\\\\Users\\\\agozacan\\\\OneDrive - Humberside Fire and Rescue Service\\\\Arson Project\\\\updated_historic_flytipping_v2.csv\", index = False)"
   ]
  }
 ],
 "metadata": {
  "kernelspec": {
   "display_name": "Python 3 (ipykernel)",
   "language": "python",
   "name": "python3"
  },
  "language_info": {
   "codemirror_mode": {
    "name": "ipython",
    "version": 3
   },
   "file_extension": ".py",
   "mimetype": "text/x-python",
   "name": "python",
   "nbconvert_exporter": "python",
   "pygments_lexer": "ipython3",
   "version": "3.9.6"
  }
 },
 "nbformat": 4,
 "nbformat_minor": 5
}
